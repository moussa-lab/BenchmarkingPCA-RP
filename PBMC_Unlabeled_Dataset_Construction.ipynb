{
 "cells": [
  {
   "cell_type": "code",
   "execution_count": null,
   "metadata": {},
   "outputs": [],
   "source": [
    "import pandas as pd\n",
    "import os\n",
    "from scipy.stats import spearmanr\n",
    "import scipy.io"
   ]
  },
  {
   "cell_type": "code",
   "execution_count": null,
   "metadata": {},
   "outputs": [],
   "source": [
    "dataset_path = '../Datasets/Unlabeled_PBMC/'"
   ]
  },
  {
   "cell_type": "code",
   "execution_count": null,
   "metadata": {},
   "outputs": [],
   "source": [
    "matrix_path = os.path.join(dataset_path,'matrix.mtx')\n",
    "features_path = os.path.join(dataset_path,'features.tsv')\n",
    "barcodes_path = os.path.join(dataset_path,'barcodes.tsv')"
   ]
  },
  {
   "cell_type": "code",
   "execution_count": null,
   "metadata": {},
   "outputs": [],
   "source": [
    "# Load the sparse matrix\n",
    "matrix = scipy.io.mmread(matrix_path).T.tocsr()\n",
    "\n",
    "# Load features (genes)\n",
    "features = pd.read_csv(features_path, header=None, sep='\\t')\n",
    "features_names = features[1].tolist() \n",
    "\n",
    "# Load barcodes\n",
    "barcodes = pd.read_csv(barcodes_path, header=None)\n",
    "barcodes_list = barcodes[0].tolist()\n",
    "\n",
    "dataset = pd.DataFrame(matrix.toarray(), index=barcodes_list, columns=features_names)\n",
    "output_path = \"../Datasets/Unlabeled_PBMC/unlabled_PBMC.csv\"\n",
    "dataset.T.to_csv(output_path, index=True)"
   ]
  },
  {
   "cell_type": "code",
   "execution_count": null,
   "metadata": {},
   "outputs": [],
   "source": [
    "# Load the sparse matrix\n",
    "matrix = scipy.io.mmread(matrix_path).T.tocsr()\n",
    "\n",
    "# Load features (genes)\n",
    "features = pd.read_csv(features_path, header=None, sep='\\t')\n",
    "features_names = features[1].tolist()\n",
    "\n",
    "# Load barcodes (cells)\n",
    "barcodes = pd.read_csv(barcodes_path, header=None)\n",
    "barcodes_list = barcodes[0].tolist()\n",
    "\n",
    "# Convert sparse matrix to DataFrame\n",
    "dataset = pd.DataFrame(matrix.toarray(), index=barcodes_list, columns=features_names)\n",
    "\n",
    "# Filter cells (rows) that have at least 500 genes (non-zero entries)\n",
    "filtered_cells = dataset.loc[(dataset > 0).sum(axis=1) >= 500]\n",
    "\n",
    "# Filter genes (columns) that contribute to at least 50% of the total counts\n",
    "filtered_genes = filtered_cells.loc[:, (filtered_cells.sum(axis=0) / filtered_cells.sum().sum()) >= 0.5]\n",
    "\n",
    "# Save the filtered dataset\n",
    "output_path = \"../Datasets/Unlabeled_PBMC/unlabeled_PBMC.csv\"\n",
    "filtered_genes.to_csv(output_path, index=True)\n"
   ]
  }
 ],
 "metadata": {
  "kernelspec": {
   "display_name": "Python 3",
   "language": "python",
   "name": "python3"
  },
  "language_info": {
   "codemirror_mode": {
    "name": "ipython",
    "version": 3
   },
   "file_extension": ".py",
   "mimetype": "text/x-python",
   "name": "python",
   "nbconvert_exporter": "python",
   "pygments_lexer": "ipython3",
   "version": "3.12.6"
  }
 },
 "nbformat": 4,
 "nbformat_minor": 2
}
