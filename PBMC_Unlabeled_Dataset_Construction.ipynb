{
 "cells": [
  {
   "cell_type": "code",
   "execution_count": null,
   "metadata": {},
   "outputs": [],
   "source": [
    "import pandas as pd\n",
    "import os\n",
    "from scipy.stats import spearmanr\n",
    "import scipy.io"
   ]
  },
  {
   "cell_type": "code",
   "execution_count": null,
   "metadata": {},
   "outputs": [],
   "source": [
    "dataset_path = '../Datasets/Unlabeled_PBMC/'"
   ]
  },
  {
   "cell_type": "code",
   "execution_count": null,
   "metadata": {},
   "outputs": [],
   "source": [
    "matrix_path = os.path.join(dataset_path,'matrix.mtx')\n",
    "features_path = os.path.join(dataset_path,'features.tsv')\n",
    "barcodes_path = os.path.join(dataset_path,'barcodes.tsv')"
   ]
  },
  {
   "cell_type": "code",
   "execution_count": null,
   "metadata": {},
   "outputs": [],
   "source": [
    "# Load the sparse matrix\n",
    "matrix = scipy.io.mmread(matrix_path).T.tocsr()\n",
    "\n",
    "# Load features\n",
    "features = pd.read_csv(features_path, header=None, sep='\\t')\n",
    "features_names = features[1].tolist() \n",
    "\n",
    "# Load barcodes\n",
    "barcodes = pd.read_csv(barcodes_path, header=None)\n",
    "barcodes_list = barcodes[0].tolist()\n",
    "\n",
    "dataset = pd.DataFrame(matrix.toarray(), index=barcodes_list, columns=features_names)\n",
    "output_path = \"../Datasets/Unlabeled_PBMC/unlabled_PBMC.csv\"\n",
    "dataset.T.to_csv(output_path, index=True)"
   ]
  }
 ],
 "metadata": {
  "kernelspec": {
   "display_name": "Python 3",
   "language": "python",
   "name": "python3"
  },
  "language_info": {
   "codemirror_mode": {
    "name": "ipython",
    "version": 3
   },
   "file_extension": ".py",
   "mimetype": "text/x-python",
   "name": "python",
   "nbconvert_exporter": "python",
   "pygments_lexer": "ipython3",
   "version": "3.12.6"
  }
 },
 "nbformat": 4,
 "nbformat_minor": 2
}
